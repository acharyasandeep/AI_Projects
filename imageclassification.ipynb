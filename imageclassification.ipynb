{
 "cells": [
  {
   "cell_type": "markdown",
   "id": "f27e6972",
   "metadata": {},
   "source": [
    "## Image Classification using CNN"
   ]
  },
  {
   "cell_type": "markdown",
   "id": "b3f291f4",
   "metadata": {},
   "source": [
    "First of all import all the libraries\n",
    "\n",
    "1. tensorflow and keras for implementing cnn models.\n",
    "2. matplotlib for plotting the training and testing datasets.\n",
    "3. numpy for handling datasets\n",
    "\n",
    "Dataset is cifar-10 dataset taken from keras library"
   ]
  },
  {
   "cell_type": "code",
   "execution_count": 2,
   "id": "0af72507",
   "metadata": {},
   "outputs": [],
   "source": [
    "import tensorflow as tf\n",
    "from tensorflow.keras import datasets, layers, models\n",
    "import matplotlib.pyplot as plt\n",
    "import numpy as np"
   ]
  },
  {
   "cell_type": "markdown",
   "id": "0e4dfa9c",
   "metadata": {},
   "source": [
    "Load the training and testing datasets from keras cifar10 library. "
   ]
  },
  {
   "cell_type": "code",
   "execution_count": 3,
   "id": "bc330a30",
   "metadata": {},
   "outputs": [],
   "source": [
    "(X_train, y_train), (X_test, y_test) = datasets.cifar10.load_data()"
   ]
  },
  {
   "cell_type": "markdown",
   "id": "09ad9e7e",
   "metadata": {},
   "source": [
    "Let's look at the dimensions of the datasets"
   ]
  },
  {
   "cell_type": "code",
   "execution_count": 4,
   "id": "09ac67ae",
   "metadata": {},
   "outputs": [
    {
     "data": {
      "text/plain": [
       "(50000, 32, 32, 3)"
      ]
     },
     "execution_count": 4,
     "metadata": {},
     "output_type": "execute_result"
    }
   ],
   "source": [
    "X_train.shape"
   ]
  },
  {
   "cell_type": "markdown",
   "id": "76d8086a",
   "metadata": {},
   "source": [
    "So, there are 5000 training examples.\\\n",
    "Each picture is of 32px height and 32px width.\\\n",
    "The picture is using rgb color channel so it has 3 dimensions for colors"
   ]
  },
  {
   "cell_type": "code",
   "execution_count": 5,
   "id": "46cf5f46",
   "metadata": {},
   "outputs": [
    {
     "data": {
      "text/plain": [
       "(10000, 32, 32, 3)"
      ]
     },
     "execution_count": 5,
     "metadata": {},
     "output_type": "execute_result"
    }
   ],
   "source": [
    "X_test.shape"
   ]
  },
  {
   "cell_type": "markdown",
   "id": "5425205c",
   "metadata": {},
   "source": [
    "There are 1000 testing examples."
   ]
  },
  {
   "cell_type": "code",
   "execution_count": 6,
   "id": "701a8c3a",
   "metadata": {},
   "outputs": [
    {
     "data": {
      "text/plain": [
       "array([[6],\n",
       "       [9],\n",
       "       [9],\n",
       "       ...,\n",
       "       [9],\n",
       "       [1],\n",
       "       [1]], dtype=uint8)"
      ]
     },
     "execution_count": 6,
     "metadata": {},
     "output_type": "execute_result"
    }
   ],
   "source": [
    "y_train"
   ]
  },
  {
   "cell_type": "markdown",
   "id": "5352445a",
   "metadata": {},
   "source": [
    "Since y_train is two dimensional array, We flatten the array by using following code."
   ]
  },
  {
   "cell_type": "code",
   "execution_count": 22,
   "id": "177f41c7",
   "metadata": {},
   "outputs": [],
   "source": [
    "y_train = y_train.reshape(-1,)\n",
    "y_test = y_test.reshape(-1,)"
   ]
  },
  {
   "cell_type": "code",
   "execution_count": 8,
   "id": "90868aef",
   "metadata": {},
   "outputs": [
    {
     "data": {
      "text/plain": [
       "array([6, 9, 9, ..., 9, 1, 1], dtype=uint8)"
      ]
     },
     "execution_count": 8,
     "metadata": {},
     "output_type": "execute_result"
    }
   ],
   "source": [
    "y_train"
   ]
  },
  {
   "cell_type": "markdown",
   "id": "d61b55f1",
   "metadata": {},
   "source": [
    "Now the y_train is flattened and it's now 1 dimensional array."
   ]
  },
  {
   "cell_type": "markdown",
   "id": "d9c98686",
   "metadata": {},
   "source": [
    "We define the classes for the images as 0 in y_train, y_test refers to airplane,  1 as automobile and so on according to  cifar-10 dataset."
   ]
  },
  {
   "cell_type": "code",
   "execution_count": 9,
   "id": "edf0f29b",
   "metadata": {},
   "outputs": [],
   "source": [
    "classes=[\"airplane\",\"automobile\",\"bird\",\"cat\",\"deer\",\"dog\",\"frog\",\"horse\",\"ship\",\"truck\"]"
   ]
  },
  {
   "cell_type": "markdown",
   "id": "3ee39114",
   "metadata": {},
   "source": [
    "The following code is for plotting the picture using matplotlib.pyplot"
   ]
  },
  {
   "cell_type": "code",
   "execution_count": 10,
   "id": "f05c94b9",
   "metadata": {},
   "outputs": [],
   "source": [
    "def plot_sample(X,y,index):\n",
    "    plt.figure(figsize=(10,2))\n",
    "    plt.imshow(X[index])\n",
    "    plt.xlabel(classes[y[index]])"
   ]
  },
  {
   "cell_type": "code",
   "execution_count": 11,
   "id": "4e3cef40",
   "metadata": {},
   "outputs": [
    {
     "data": {
      "image/png": "[encoded data removed]",
      "text/plain": [
       "<Figure size 720x144 with 1 Axes>"
      ]
     },
     "metadata": {
      "needs_background": "light"
     },
     "output_type": "display_data"
    }
   ],
   "source": [
    "plot_sample(X_train,y_train,0)"
   ]
  },
  {
   "cell_type": "markdown",
   "id": "33fdb493",
   "metadata": {},
   "source": [
    "The following code normalizes the dataset by dividing every element of the dataset by 255(maximum value in dataset)."
   ]
  },
  {
   "cell_type": "code",
   "execution_count": 12,
   "id": "8ee1af1c",
   "metadata": {},
   "outputs": [],
   "source": [
    "X_train = X_train/255\n",
    "X_test = X_test/255"
   ]
  },
  {
   "cell_type": "markdown",
   "id": "6d12ffc7",
   "metadata": {},
   "source": [
    "Now, the dataset is in the range of 0-1.\n",
    "### Normalizing the data makes the cost function much easier to train.\n",
    "For more: [Here](https://stats.stackexchange.com/questions/185853/why-do-we-need-to-normalize-the-images-before-we-put-them-into-cnn)"
   ]
  },
  {
   "cell_type": "markdown",
   "id": "451304e6",
   "metadata": {},
   "source": [
    "Let's first use the Artificial Neural Network for the classification of the images.\n",
    "\n",
    "Note: \n",
    "- use **loss='categorical_cross_entropy'** if you have **one hot -  encoded** array in y.\n",
    "- use **loss='sparse_categorical_cross_entropy'** if you have y as index as in our dataset here **(y=2 meaning bird)** "
   ]
  },
  {
   "cell_type": "code",
   "execution_count": 13,
   "id": "4cb7b921",
   "metadata": {},
   "outputs": [
    {
     "name": "stdout",
     "output_type": "stream",
     "text": [
      "Epoch 1/5\n",
      "1563/1563 [==============================] - 139s 88ms/step - loss: 1.8079 - accuracy: 0.3560\n",
      "Epoch 2/5\n",
      "1563/1563 [==============================] - 139s 89ms/step - loss: 1.6205 - accuracy: 0.4336\n",
      "Epoch 3/5\n",
      "1563/1563 [==============================] - 137s 88ms/step - loss: 1.5384 - accuracy: 0.4583\n",
      "Epoch 4/5\n",
      "1563/1563 [==============================] - 138s 88ms/step - loss: 1.4795 - accuracy: 0.4806\n",
      "Epoch 5/5\n",
      "1563/1563 [==============================] - 143s 92ms/step - loss: 1.4312 - accuracy: 0.4955\n"
     ]
    },
    {
     "data": {
      "text/plain": [
       "<keras.callbacks.History at 0x1929799ceb0>"
      ]
     },
     "execution_count": 13,
     "metadata": {},
     "output_type": "execute_result"
    }
   ],
   "source": [
    "ann = models.Sequential([\n",
    "    layers.Flatten(input_shape=(32,32,3)),\n",
    "    layers.Dense(3000, activation='relu'),\n",
    "    layers.Dense(1000, activation='relu'),\n",
    "    layers.Dense(10, activation='sigmoid')\n",
    "])\n",
    "\n",
    "ann.compile(optimizer='SGD',\n",
    "           loss='sparse_categorical_crossentropy',\n",
    "           metrics=['accuracy'])\n",
    "ann.fit(X_train, y_train, epochs=5)"
   ]
  },
  {
   "cell_type": "markdown",
   "id": "b8e366ae",
   "metadata": {},
   "source": [
    "To evaluate the model on test sets we use the following code:"
   ]
  },
  {
   "cell_type": "code",
   "execution_count": 14,
   "id": "90069886",
   "metadata": {},
   "outputs": [
    {
     "name": "stdout",
     "output_type": "stream",
     "text": [
      "313/313 [==============================] - 8s 25ms/step - loss: 1.6981 - accuracy: 0.3953\n"
     ]
    },
    {
     "data": {
      "text/plain": [
       "[1.6980830430984497, 0.3953000009059906]"
      ]
     },
     "execution_count": 14,
     "metadata": {},
     "output_type": "execute_result"
    }
   ],
   "source": [
    "ann.evaluate(X_test, y_test)"
   ]
  },
  {
   "cell_type": "markdown",
   "id": "43818b98",
   "metadata": {},
   "source": [
    "The accuracy is pretty low. We will later use cnn to improve the performance."
   ]
  },
  {
   "cell_type": "markdown",
   "id": "47c16bfd",
   "metadata": {},
   "source": [
    "Use sklearn library to find the precision, recall, f1-score, support for every classes in the datasets.\n",
    "\n",
    "**precision** - Out of all prediction how many you got it right.\\\n",
    "i.e (True Positive)/(True Positive + False Positive)\\\n",
    "**recall** - Out of all truth how many you got it right.\\\n",
    "i.e (True Positive)/(True Positive + False Negative)\\\n",
    "**f1-score** - Harmonic Mean of precision and recall\\\n",
    "i.e  2*precision*recall/(precision + recall)\\\n",
    "**support** - Number of samples of the true response that lie in that class.\\ "
   ]
  },
  {
   "cell_type": "code",
   "execution_count": 15,
   "id": "54774de4",
   "metadata": {},
   "outputs": [
    {
     "name": "stdout",
     "output_type": "stream",
     "text": [
      "Classification Report: \n",
      "               precision    recall  f1-score   support\n",
      "\n",
      "           0       0.33      0.76      0.46      1000\n",
      "           1       0.75      0.39      0.51      1000\n",
      "           2       0.47      0.14      0.21      1000\n",
      "           3       0.46      0.11      0.18      1000\n",
      "           4       0.35      0.47      0.40      1000\n",
      "           5       0.45      0.24      0.31      1000\n",
      "           6       0.61      0.28      0.39      1000\n",
      "           7       0.26      0.84      0.40      1000\n",
      "           8       0.75      0.25      0.38      1000\n",
      "           9       0.59      0.48      0.53      1000\n",
      "\n",
      "    accuracy                           0.40     10000\n",
      "   macro avg       0.50      0.40      0.38     10000\n",
      "weighted avg       0.50      0.40      0.38     10000\n",
      "\n"
     ]
    }
   ],
   "source": [
    "from sklearn.metrics import confusion_matrix, classification_report\n",
    "y_pred = ann.predict(X_test)\n",
    "y_pred_classes = [np.argmax(element) for element in y_pred]\n",
    "\n",
    "print('Classification Report: \\n', classification_report(y_test, y_pred_classes))"
   ]
  },
  {
   "cell_type": "markdown",
   "id": "b443d622",
   "metadata": {},
   "source": [
    "Now we will use convolution neural network to improve the performance of our network.\n",
    "\n",
    "**filters** represent the no of filters.\\\n",
    "*i.e if filters=32, this network can detect 32 different features in the image*\n",
    "**kernel_size** represents the actual size of a single filter.\\\n",
    "**inpu_shape** refers to the size of the single training/test example."
   ]
  },
  {
   "cell_type": "code",
   "execution_count": 19,
   "id": "bcb0d26a",
   "metadata": {},
   "outputs": [],
   "source": [
    "cnn = models.Sequential([\n",
    "    #cnn first block\n",
    "    layers.Conv2D(filters=32, kernel_size=(3,3), activation='relu', input_shape=(32,32,3)),\n",
    "    #(2, 2) will take the max value over a 2x2 pooling window.\n",
    "    layers.MaxPooling2D((2,2)),\n",
    "    \n",
    "    #cnn second block\n",
    "    layers.Conv2D(filters=32, kernel_size=(3,3), activation='relu'),\n",
    "    layers.MaxPooling2D((2,2)),\n",
    "    \n",
    "    #fully connected layer\n",
    "    layers.Flatten(),\n",
    "    layers.Dense(64, activation='relu'),\n",
    "    layers.Dense(10, activation='softmax')\n",
    "])"
   ]
  },
  {
   "cell_type": "code",
   "execution_count": 20,
   "id": "26649f4a",
   "metadata": {},
   "outputs": [],
   "source": [
    "cnn.compile(optimizer='adam',\n",
    "           loss='sparse_categorical_crossentropy',\n",
    "           metrics=['accuracy'])"
   ]
  },
  {
   "cell_type": "code",
   "execution_count": 21,
   "id": "89437b50",
   "metadata": {},
   "outputs": [
    {
     "name": "stdout",
     "output_type": "stream",
     "text": [
      "Epoch 1/10\n",
      "1563/1563 [==============================] - 62s 39ms/step - loss: 1.5100 - accuracy: 0.4577\n",
      "Epoch 2/10\n",
      "1563/1563 [==============================] - 56s 36ms/step - loss: 1.1720 - accuracy: 0.5847\n",
      "Epoch 3/10\n",
      "1563/1563 [==============================] - 51s 33ms/step - loss: 1.0471 - accuracy: 0.6335\n",
      "Epoch 4/10\n",
      "1563/1563 [==============================] - 52s 34ms/step - loss: 0.9747 - accuracy: 0.6584\n",
      "Epoch 5/10\n",
      "1563/1563 [==============================] - 55s 35ms/step - loss: 0.9163 - accuracy: 0.6787\n",
      "Epoch 6/10\n",
      "1563/1563 [==============================] - 49s 32ms/step - loss: 0.8692 - accuracy: 0.6977\n",
      "Epoch 7/10\n",
      "1563/1563 [==============================] - 59s 38ms/step - loss: 0.8272 - accuracy: 0.7128\n",
      "Epoch 8/10\n",
      "1563/1563 [==============================] - 54s 34ms/step - loss: 0.7924 - accuracy: 0.7240\n",
      "Epoch 9/10\n",
      "1563/1563 [==============================] - 53s 34ms/step - loss: 0.7611 - accuracy: 0.7349\n",
      "Epoch 10/10\n",
      "1563/1563 [==============================] - 47s 30ms/step - loss: 0.7286 - accuracy: 0.7446\n"
     ]
    },
    {
     "data": {
      "text/plain": [
       "<keras.callbacks.History at 0x19298d2dfc0>"
      ]
     },
     "execution_count": 21,
     "metadata": {},
     "output_type": "execute_result"
    }
   ],
   "source": [
    "cnn.fit(X_train, y_train, epochs=10)"
   ]
  },
  {
   "cell_type": "code",
   "execution_count": 23,
   "id": "2a81817f",
   "metadata": {},
   "outputs": [
    {
     "name": "stdout",
     "output_type": "stream",
     "text": [
      "10000/10000 [==============================] - 25s 2ms/step - loss: 0.9204 - accuracy: 0.6850\n"
     ]
    },
    {
     "data": {
      "text/plain": [
       "[0.9204038381576538, 0.6850000023841858]"
      ]
     },
     "execution_count": 23,
     "metadata": {},
     "output_type": "execute_result"
    }
   ],
   "source": [
    "cnn.evaluate(X_test, y_test, 1)"
   ]
  },
  {
   "cell_type": "markdown",
   "id": "ac8967d4",
   "metadata": {},
   "source": [
    "The accuracy is 68.5 percentage which is significant improvement from ann."
   ]
  },
  {
   "cell_type": "code",
   "execution_count": 24,
   "id": "51783dcb",
   "metadata": {},
   "outputs": [
    {
     "data": {
      "image/png": "[encoded data removed]",
      "text/plain": [
       "<Figure size 720x144 with 1 Axes>"
      ]
     },
     "metadata": {
      "needs_background": "light"
     },
     "output_type": "display_data"
    }
   ],
   "source": [
    "plot_sample(X_test, y_test, 1)"
   ]
  },
  {
   "cell_type": "code",
   "execution_count": 25,
   "id": "a2a49e85",
   "metadata": {},
   "outputs": [],
   "source": [
    "y_pred = cnn.predict(X_test)"
   ]
  },
  {
   "cell_type": "code",
   "execution_count": 38,
   "id": "8dd3805a",
   "metadata": {},
   "outputs": [
    {
     "data": {
      "text/plain": [
       "array([[1.9131869e-02, 7.0095516e-04, 1.8720187e-02, 8.2071471e-01,\n",
       "        1.9530013e-04, 5.9014678e-02, 7.0989959e-02, 3.3602300e-05,\n",
       "        3.2372761e-03, 7.2614481e-03],\n",
       "       [4.3691970e-02, 5.4247469e-02, 1.9966485e-05, 1.3622426e-05,\n",
       "        1.2407052e-05, 3.9512639e-07, 4.1816356e-06, 1.9819501e-08,\n",
       "        9.0013558e-01, 1.8744402e-03],\n",
       "       [8.0978284e-03, 6.3770592e-02, 8.0045132e-04, 1.0756365e-03,\n",
       "        3.3207427e-04, 4.9663697e-05, 6.9657086e-05, 1.2352721e-04,\n",
       "        9.2295003e-01, 2.7305465e-03],\n",
       "       [7.0169175e-01, 9.5051397e-03, 3.2335084e-02, 3.3460839e-03,\n",
       "        7.9412989e-02, 1.4947267e-04, 5.7770166e-04, 9.3252462e-04,\n",
       "        1.7127529e-01, 7.7406899e-04],\n",
       "       [6.3832152e-07, 1.6944998e-05, 9.6672457e-03, 1.2607011e-02,\n",
       "        8.9220625e-01, 2.3420195e-03, 8.3079256e-02, 7.0515940e-05,\n",
       "        6.4626634e-06, 3.6930201e-06]], dtype=float32)"
      ]
     },
     "execution_count": 38,
     "metadata": {},
     "output_type": "execute_result"
    }
   ],
   "source": [
    "y_pred[:5]"
   ]
  },
  {
   "cell_type": "markdown",
   "id": "dd3bb444",
   "metadata": {},
   "source": [
    "The values in each element of y_pred are the probability distribution between 0 and 1 because it is using softmax.\n",
    "\n",
    "To find out which index has max probability of occurence for each prediction, We use:"
   ]
  },
  {
   "cell_type": "code",
   "execution_count": 39,
   "id": "d1f7c100",
   "metadata": {},
   "outputs": [],
   "source": [
    "y_classes=[np.argmax(element) for element in y_pred]"
   ]
  },
  {
   "cell_type": "code",
   "execution_count": 40,
   "id": "f3ecb423",
   "metadata": {},
   "outputs": [
    {
     "data": {
      "text/plain": [
       "[3, 8, 8, 0, 4]"
      ]
     },
     "execution_count": 40,
     "metadata": {},
     "output_type": "execute_result"
    }
   ],
   "source": [
    "y_classes[:5]"
   ]
  },
  {
   "cell_type": "code",
   "execution_count": 41,
   "id": "5d04d368",
   "metadata": {},
   "outputs": [
    {
     "data": {
      "text/plain": [
       "array([3, 8, 8, 0, 6], dtype=uint8)"
      ]
     },
     "execution_count": 41,
     "metadata": {},
     "output_type": "execute_result"
    }
   ],
   "source": [
    "y_test[:5]"
   ]
  },
  {
   "cell_type": "code",
   "execution_count": 47,
   "id": "9ac24812",
   "metadata": {},
   "outputs": [
    {
     "data": {
      "text/plain": [
       "'airplane'"
      ]
     },
     "execution_count": 47,
     "metadata": {},
     "output_type": "execute_result"
    }
   ],
   "source": [
    "classes[y_classes[10]]"
   ]
  },
  {
   "cell_type": "code",
   "execution_count": 46,
   "id": "51a11105",
   "metadata": {},
   "outputs": [
    {
     "data": {
      "image/png": "[encoded data removed]",
      "text/plain": [
       "<Figure size 720x144 with 1 Axes>"
      ]
     },
     "metadata": {
      "needs_background": "light"
     },
     "output_type": "display_data"
    }
   ],
   "source": [
    "plot_sample(X_test,y_test,10)"
   ]
  },
  {
   "cell_type": "code",
   "execution_count": 48,
   "id": "3361330f",
   "metadata": {},
   "outputs": [
    {
     "name": "stdout",
     "output_type": "stream",
     "text": [
      "Classification Report: \n",
      "               precision    recall  f1-score   support\n",
      "\n",
      "           0       0.73      0.76      0.75      1000\n",
      "           1       0.84      0.74      0.79      1000\n",
      "           2       0.53      0.58      0.55      1000\n",
      "           3       0.53      0.44      0.48      1000\n",
      "           4       0.63      0.59      0.61      1000\n",
      "           5       0.61      0.60      0.61      1000\n",
      "           6       0.75      0.77      0.76      1000\n",
      "           7       0.67      0.78      0.72      1000\n",
      "           8       0.79      0.80      0.79      1000\n",
      "           9       0.77      0.78      0.77      1000\n",
      "\n",
      "    accuracy                           0.69     10000\n",
      "   macro avg       0.68      0.68      0.68     10000\n",
      "weighted avg       0.68      0.69      0.68     10000\n",
      "\n"
     ]
    }
   ],
   "source": [
    "print('Classification Report: \\n', classification_report(y_test, y_classes))"
   ]
  },
  {
   "cell_type": "code",
   "execution_count": null,
   "id": "e7844866",
   "metadata": {},
   "outputs": [],
   "source": []
  }
 ],
 "metadata": {
  "kernelspec": {
   "display_name": "Python 3 (ipykernel)",
   "language": "python",
   "name": "python3"
  },
  "language_info": {
   "codemirror_mode": {
    "name": "ipython",
    "version": 3
   },
   "file_extension": ".py",
   "mimetype": "text/x-python",
   "name": "python",
   "nbconvert_exporter": "python",
   "pygments_lexer": "ipython3",
   "version": "3.10.6"
  }
 },
 "nbformat": 4,
 "nbformat_minor": 5
}
